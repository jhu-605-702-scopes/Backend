{
 "cells": [
  {
   "cell_type": "markdown",
   "metadata": {},
   "source": [
    "# Timing Data from Scopes invocations \n",
    "\n",
    "Questions to answer:\n",
    "- Average round trip time of one request\n",
    "- Total time to process 1000 requests when sent in batches of 100 \n",
    "- Cost per request "
   ]
  },
  {
   "cell_type": "code",
   "execution_count": 1,
   "metadata": {},
   "outputs": [],
   "source": [
    "# Imports \n",
    "from batch_scope_requests import BatchScopeRequests\n",
    "from pprint import pprint\n",
    "import requests \n",
    "from datetime import datetime\n",
    "from statistics import mean \n",
    "\n",
    "date = str(datetime.today().isoformat())\n",
    "post_user_endpoint =  \"https://api.getscopes.app/v1/users/\"\n",
    "post_horoscope_endpoint = \"https://api.getscopes.app/v1/users/{}/horoscopes/{}\""
   ]
  },
  {
   "cell_type": "code",
   "execution_count": null,
   "metadata": {},
   "outputs": [],
   "source": [
    "# Average Round trip of one request \n",
    "elapsed_times = []\n",
    "n = 100\n",
    "test_user_id = requests.post(post_user_endpoint, data={}).json()['body'][\"userId\"]\n",
    "test_url = post_horoscope_endpoint.format(test_user_id, date)\n",
    "for i in range(n):\n",
    "    response = requests.post(post_horoscope_endpoint, data={})\n",
    "    elapsed_times.append(response.elapsed.microseconds)\n",
    "\n",
    "print(\"Average elapsed time in milliseconds\", mean(elapsed_times) / 1000)"
   ]
  },
  {
   "cell_type": "code",
   "execution_count": 2,
   "metadata": {},
   "outputs": [
    {
     "name": "stdout",
     "output_type": "stream",
     "text": [
      "{'statusCode': '200', 'body': {'username': 'DeleteThisUser', 'userId': '63871b33-1921-4b2c-ad1f-759435c04b13'}, 'headers': {'Content-Type': 'application/json'}}\n",
      "{'statusCode': '200', 'body': {'username': 'DeleteThisUser', 'userId': '0c0fa886-15bd-4c32-90af-ea459a17ae8d'}, 'headers': {'Content-Type': 'application/json'}}\n",
      "{'statusCode': '200', 'body': {'username': 'DeleteThisUser', 'userId': '61451318-34df-4f0f-a84f-7dab86287e4c'}, 'headers': {'Content-Type': 'application/json'}}\n",
      "{'statusCode': '200', 'body': {'username': 'DeleteThisUser', 'userId': '2841da17-eb00-4ec2-8c93-79953c659d59'}, 'headers': {'Content-Type': 'application/json'}}\n",
      "{'statusCode': '200', 'body': {'username': 'DeleteThisUser', 'userId': 'f97181e1-c5f2-4e8c-b5db-53161c3009a4'}, 'headers': {'Content-Type': 'application/json'}}\n",
      "{'statusCode': '200', 'body': {'username': 'DeleteThisUser', 'userId': '130c90d3-bef1-4168-9e7b-34ce7dfa23c3'}, 'headers': {'Content-Type': 'application/json'}}\n",
      "{'statusCode': '200', 'body': {'username': 'DeleteThisUser', 'userId': '58eac9f6-1f41-485c-8b67-a356586b4795'}, 'headers': {'Content-Type': 'application/json'}}\n",
      "{'statusCode': '200', 'body': {'username': 'DeleteThisUser', 'userId': '091f7c0f-2de3-4256-8693-f5b19039fb1a'}, 'headers': {'Content-Type': 'application/json'}}\n",
      "{'statusCode': '200', 'body': {'username': 'DeleteThisUser', 'userId': '7db0afde-6d5e-43da-8e43-2fc136590d98'}, 'headers': {'Content-Type': 'application/json'}}\n",
      "{'statusCode': '200', 'body': {'username': 'DeleteThisUser', 'userId': 'c304b0e2-4fdf-43ff-9bde-3fe047c6af22'}, 'headers': {'Content-Type': 'application/json'}}\n",
      "{'statusCode': '200', 'body': {'username': 'DeleteThisUser', 'userId': '5d4cc840-98ff-4fd7-86e1-7fb1d6366ccd'}, 'headers': {'Content-Type': 'application/json'}}\n",
      "{'statusCode': '200', 'body': {'username': 'DeleteThisUser', 'userId': 'c82b08f8-421a-4e2e-b048-c24a0997e489'}, 'headers': {'Content-Type': 'application/json'}}\n",
      "{'statusCode': '200', 'body': {'username': 'DeleteThisUser', 'userId': '3ff7fbde-f692-43f0-bad4-856eeadd5026'}, 'headers': {'Content-Type': 'application/json'}}\n",
      "{'statusCode': '200', 'body': {'username': 'DeleteThisUser', 'userId': '883f3422-5001-4aa5-a3eb-a132403a90d0'}, 'headers': {'Content-Type': 'application/json'}}\n",
      "{'statusCode': '200', 'body': {'username': 'DeleteThisUser', 'userId': '57f74758-8d7d-42cf-96ee-bd813580333b'}, 'headers': {'Content-Type': 'application/json'}}\n",
      "{'statusCode': '200', 'body': {'username': 'DeleteThisUser', 'userId': 'cc1d4da1-8a88-4ca7-a2d5-c46c1f6f531f'}, 'headers': {'Content-Type': 'application/json'}}\n",
      "{'statusCode': '200', 'body': {'username': 'DeleteThisUser', 'userId': 'f06a97f0-ee01-425b-a71c-bff96a5150b5'}, 'headers': {'Content-Type': 'application/json'}}\n",
      "{'statusCode': '200', 'body': {'username': 'DeleteThisUser', 'userId': '21dfcd75-b237-4194-bd77-75446abededa'}, 'headers': {'Content-Type': 'application/json'}}\n",
      "{'statusCode': '200', 'body': {'username': 'DeleteThisUser', 'userId': '81e614d5-e93b-491f-85ea-43c24ef3a8f3'}, 'headers': {'Content-Type': 'application/json'}}\n",
      "{'message': 'Internal server error'}\n"
     ]
    },
    {
     "ename": "KeyError",
     "evalue": "'body'",
     "output_type": "error",
     "traceback": [
      "\u001b[1;31m---------------------------------------------------------------------------\u001b[0m",
      "\u001b[1;31mKeyError\u001b[0m                                  Traceback (most recent call last)",
      "Cell \u001b[1;32mIn[2], line 6\u001b[0m\n\u001b[0;32m      3\u001b[0m number_of_requests \u001b[38;5;241m=\u001b[39m \u001b[38;5;241m100\u001b[39m\n\u001b[0;32m      5\u001b[0m batch_requests \u001b[38;5;241m=\u001b[39m BatchScopeRequests(number_of_requests, post_user_endpoint, post_horoscope_endpoint)\n\u001b[1;32m----> 6\u001b[0m \u001b[38;5;28;01mawait\u001b[39;00m batch_requests\u001b[38;5;241m.\u001b[39mcreate_users(batch_requests\u001b[38;5;241m.\u001b[39mcreate_user_url)\n\u001b[0;32m      7\u001b[0m \u001b[38;5;66;03m# pprint(batch_requests.test_users_ids[])\u001b[39;00m\n\u001b[0;32m      8\u001b[0m start \u001b[38;5;241m=\u001b[39m datetime\u001b[38;5;241m.\u001b[39mnow()\n",
      "File \u001b[1;32mc:\\Users\\megre\\Repos\\CloudNative\\group_project\\scopes\\Backend\\batch_scope_requests.py:43\u001b[0m, in \u001b[0;36mBatchScopeRequests.create_users\u001b[1;34m(self, url)\u001b[0m\n\u001b[0;32m     <a href='file:///c%3A/Users/megre/Repos/CloudNative/group_project/scopes/Backend/batch_scope_requests.py?line=40'>41</a>\u001b[0m \u001b[39masync\u001b[39;00m \u001b[39mwith\u001b[39;00m aiohttp\u001b[39m.\u001b[39mClientSession() \u001b[39mas\u001b[39;00m session:\n\u001b[0;32m     <a href='file:///c%3A/Users/megre/Repos/CloudNative/group_project/scopes/Backend/batch_scope_requests.py?line=41'>42</a>\u001b[0m     tasks \u001b[39m=\u001b[39m [\u001b[39mself\u001b[39m\u001b[39m.\u001b[39mcreate_user(url, session) \u001b[39mfor\u001b[39;00m i \u001b[39min\u001b[39;00m \u001b[39mrange\u001b[39m(\u001b[39mself\u001b[39m\u001b[39m.\u001b[39mnumber_of_requests)]\n\u001b[1;32m---> <a href='file:///c%3A/Users/megre/Repos/CloudNative/group_project/scopes/Backend/batch_scope_requests.py?line=42'>43</a>\u001b[0m     results \u001b[39m=\u001b[39m \u001b[39mawait\u001b[39;00m asyncio\u001b[39m.\u001b[39mgather(\u001b[39m*\u001b[39mtasks)\n\u001b[0;32m     <a href='file:///c%3A/Users/megre/Repos/CloudNative/group_project/scopes/Backend/batch_scope_requests.py?line=43'>44</a>\u001b[0m     \u001b[39mreturn\u001b[39;00m results\n",
      "File \u001b[1;32mc:\\Users\\megre\\Repos\\CloudNative\\group_project\\scopes\\Backend\\batch_scope_requests.py:28\u001b[0m, in \u001b[0;36mBatchScopeRequests.create_user\u001b[1;34m(self, url, session)\u001b[0m\n\u001b[0;32m     <a href='file:///c%3A/Users/megre/Repos/CloudNative/group_project/scopes/Backend/batch_scope_requests.py?line=25'>26</a>\u001b[0m data \u001b[39m=\u001b[39m \u001b[39mawait\u001b[39;00m response\u001b[39m.\u001b[39mjson()\n\u001b[0;32m     <a href='file:///c%3A/Users/megre/Repos/CloudNative/group_project/scopes/Backend/batch_scope_requests.py?line=26'>27</a>\u001b[0m \u001b[39mprint\u001b[39m(data)\n\u001b[1;32m---> <a href='file:///c%3A/Users/megre/Repos/CloudNative/group_project/scopes/Backend/batch_scope_requests.py?line=27'>28</a>\u001b[0m \u001b[39mself\u001b[39m\u001b[39m.\u001b[39mtest_users_ids\u001b[39m.\u001b[39mappend(data[\u001b[39m\"\u001b[39;49m\u001b[39mbody\u001b[39;49m\u001b[39m\"\u001b[39;49m][\u001b[39m\"\u001b[39m\u001b[39muserId\u001b[39m\u001b[39m\"\u001b[39m])\n",
      "\u001b[1;31mKeyError\u001b[0m: 'body'"
     ]
    }
   ],
   "source": [
    "# Batch requests \n",
    "\n",
    "number_of_requests = 100\n",
    "\n",
    "batch_requests = BatchScopeRequests(number_of_requests, post_user_endpoint, post_horoscope_endpoint)\n",
    "await batch_requests.create_users(batch_requests.create_user_url)\n",
    "# pprint(batch_requests.test_users_ids[])\n",
    "start = datetime.now()\n",
    "await batch_requests.create_horoscopes(batch_requests.create_horoscope_url)\n",
    "end = datetime.now()\n",
    "delta = (end - start).microseconds / 1000\n",
    "# pprint(batch_requests.test_users_horoscopes[:-10])\n",
    "\n",
    "print(\"Total runtime of {} simultaneous requests is {} milliseconds\".format(number_of_requests, delta))"
   ]
  }
 ],
 "metadata": {
  "interpreter": {
   "hash": "7e81dec2e6fcacf03f7587a566e5794fbb2998833ca4934dd42aa47610b2e249"
  },
  "kernelspec": {
   "display_name": "Python 3.10.5 ('venv': venv)",
   "language": "python",
   "name": "python3"
  },
  "language_info": {
   "codemirror_mode": {
    "name": "ipython",
    "version": 3
   },
   "file_extension": ".py",
   "mimetype": "text/x-python",
   "name": "python",
   "nbconvert_exporter": "python",
   "pygments_lexer": "ipython3",
   "version": "3.10.5"
  },
  "orig_nbformat": 4
 },
 "nbformat": 4,
 "nbformat_minor": 2
}
