{
 "cells": [
  {
   "cell_type": "markdown",
   "metadata": {},
   "source": [
    "# Timing Data from Scopes invocations \n",
    "\n",
    "Questions to answer:\n",
    "- Average round trip time of one request\n",
    "- Total time to process 1000 requests when sent in batches of 100 \n",
    "- Cost per request "
   ]
  },
  {
   "cell_type": "code",
   "execution_count": 1,
   "metadata": {},
   "outputs": [],
   "source": [
    "# Imports \n",
    "from batch_scope_requests import BatchScopeRequests\n",
    "from pprint import pprint\n",
    "import requests \n",
    "from datetime import datetime\n",
    "from statistics import mean \n",
    "\n",
    "date = str(datetime.today().isoformat())\n",
    "post_user_endpoint =  \"https://api.getscopes.app/v1/users/\"\n",
    "post_horoscope_endpoint = \"https://api.getscopes.app/v1/users/{}/horoscopes/{}\""
   ]
  },
  {
   "cell_type": "code",
   "execution_count": 2,
   "metadata": {},
   "outputs": [
    {
     "name": "stdout",
     "output_type": "stream",
     "text": [
      "Average elapsed time in milliseconds 553.57507\n"
     ]
    }
   ],
   "source": [
    "# Average Round trip of one request \n",
    "elapsed_times = []\n",
    "n = 100\n",
    "test_user_id = requests.post(post_user_endpoint, data={}).json()['body'][\"userId\"]\n",
    "test_url = post_horoscope_endpoint.format(test_user_id, date)\n",
    "for i in range(n):\n",
    "    response = requests.post(post_horoscope_endpoint, data={})\n",
    "    elapsed_times.append(response.elapsed.microseconds)\n",
    "\n",
    "print(\"Average elapsed time in milliseconds\", mean(elapsed_times) / 1000)"
   ]
  },
  {
   "cell_type": "code",
   "execution_count": 2,
   "metadata": {},
   "outputs": [
    {
     "name": "stdout",
     "output_type": "stream",
     "text": [
      "['a71e0535-0cb3-48f2-938f-94c980195ce4',\n",
      " '51eaedf1-e907-4b5a-9659-93fc044ff942',\n",
      " '2a5697ce-b4b0-4ede-9d22-865f50f83d7f',\n",
      " 'd704474f-2dd2-409c-b62e-055b47f1a77d',\n",
      " '68338368-b474-43e5-a43a-178916a629a4',\n",
      " '4d63b7c6-d343-4834-a914-c4f92c19c0cc',\n",
      " 'e87230f7-ad41-4d24-a3dd-18b6974cb601',\n",
      " '667a230e-675d-4bfd-b8dd-ae1888bc3424',\n",
      " 'ca85a763-3561-413e-a145-732a07ba74aa',\n",
      " 'ce840abd-5649-4aec-b8fc-bee2c5ee6d52']\n",
      "[\"['📷', '⚜', '🇵🇰']\",\n",
      " \"['🇿🇲', '🤔', '🇬🇭']\",\n",
      " \"['🇧🇷', '♋', '\\U0001faf2']\",\n",
      " \"['🧧', '🈹', '🟩']\",\n",
      " \"['🔟', '\\U0001fac5', '🇰🇪']\",\n",
      " \"['🕌', '🕺', '😔']\",\n",
      " \"['🇧🇦', '🇪🇪', '🚶\\\\u200d♀️']\",\n",
      " \"['🚪', '🥪', '🧻']\",\n",
      " \"['🅰', '🖐', '🕺']\",\n",
      " \"['🕕', '🛕', '📌']\"]\n",
      "Emojis  [\"['🧠', '👦', '🇬🇧']\", \"['🔏', '🐓', '⛩']\", \"['💕', '🇩🇬', '🪘']\", \"['🇧🇻', '🕓', '🍤']\", \"['👩\\\\u200d🏫', '🇦🇹', '🐉']\", \"['🍎', '🌗', '🇱🇧']\", \"['🌡', '⬇', '🇵🇸']\", \"['🐦', '🇹🇭', '\\U0001fab9']\", \"['📝', '🇧🇻', '🇱🇸']\", \"['🔚', '🍣', '🦄']\", \"['🤚', '🐑', '🇯🇲']\", \"['💉', '📺', '🇷🇺']\", \"['🐉', '🇨🇴', '🇸🇻']\", \"['🇧🇯', '🧑\\\\u200d🚀', '🗂']\", \"['🧋', '⛷', '🇭🇹']\", \"['🇮🇩', '💸', '↩']\", \"['🤲', '🦦', '🥤']\", \"['⛰', '🛡', '👨\\\\u200d🎨']\", \"['🥮', '🇨🇴', '🟠']\", \"['💍', '🏬', '🧙\\\\u200d♂️']\", \"['🥵', '🦫', '⛹️\\\\u200d♂️']\", \"['🇨🇮', '🥄', '🇼🇸']\", \"['🎤', '🤨', '🐌']\", \"['🇵🇲', '🆗', '🧰']\", \"['🐥', '🔂', '🦟']\", \"['🌵', '🤗', '🚦']\", \"['🌊', '🇸🇸', '🤼']\", \"['🇵🇬', '🛁', '🗻']\", \"['🇮🇸', '🇵🇬', '🇨🇷']\", \"['🇰🇲', '🇲🇽', '🎀']\", \"['⬛', '🇱🇹', '⛽']\", \"['🚞', '®', '🇦🇹']\", \"['🇰🇳', '🇾🇪', '🇱🇻']\", \"['🇧🇼', '🍄', '🏢']\", \"['🇨🇦', '🇦🇺', '🚓']\", \"['🍓', '🚯', '🕉']\", \"['🔎', '👩\\\\u200d🦳', '🇬🇦']\", \"['🇲🇼', '🇪🇸', '👁']\", \"['😇', '🎯', '🎩']\", \"['🇨🇵', '🫁', '⏏']\", \"['😞', '🇮🇪', '🇻🇪']\", \"['↘', '🇨🇷', '🇬🇩']\", \"['🇸🇿', '🪞', '🏴\\\\U000e0067\\\\U000e0062\\\\U000e0065\\\\U000e006e\\\\U000e0067\\\\U000e007f']\", \"['🇰🇭', '🇫🇰', '🇯🇲']\", \"['🚙', '🔏', '💮']\", \"['🇲🇾', '🤧', '🚃']\", \"['🇸🇰', '📹', '🚒']\", \"['🇫🇴', '🇮🇲', '🧻']\", \"['5️⃣', '🕕', '👨\\\\u200d👨\\\\u200d👧\\\\u200d👦']\", \"['🥩', '🎉', '🧙\\\\u200d♀️']\", \"['🚏', '🦼', '🚣\\\\u200d♀️']\", \"['⚗', '📍', '👨\\\\u200d👦\\\\u200d👦']\", \"['🇸🇧', '👩\\\\u200d👧\\\\u200d👧', '🌨']\", \"['👨\\\\u200d👩\\\\u200d👦', '🇱🇺', '🚅']\", \"['💹', '🧼', '🆑']\", \"['🚤', '🚢', '🧑\\\\u200d🦲']\", \"['🇩🇴', '💍', '🔬']\", \"['👨\\\\u200d🦳', '📓', '🇷🇴']\", \"['🍕', '\\U0001faf5', '🍖']\", \"['⏱', '🇫🇲', '🇵🇫']\", \"['🟥', '🗡', '🇺🇬']\", \"['🚡', '♨', '🧫']\", \"['💀', '🏎', '🇷🇪']\", \"['👮', '🕑', '🐴']\", \"['🥂', '🧝\\\\u200d♂️', '🕤']\", \"['🧑\\\\u200d⚖️', '🦎', '🫐']\", \"['🇵🇹', '😤', '🌌']\", \"['🔲', '🐅', '🇪🇪']\", \"['🦩', '😉', '🇰🇲']\", \"['🍬', '🕖', '🇻🇦']\", \"['©', '🏊', '😥']\", \"['🐚', '👩\\\\u200d🦳', '🗺']\", \"['⛱', '📉', '🇻🇳']\", \"['🚤', '🇹🇩', '🏯']\", \"['🩹', '🚘', '🇵🇭']\", \"['🇫🇴', '⭐', '↙']\", \"['🈸', '❇', '☎']\", \"['🇸🇬', '🧹', '🏄']\", \"['⚜', '🏒', '🎪']\", \"['🇭🇲', '⛲', '😨']\", \"['🤧', '👿', '🇬🇭']\", \"['🧏\\\\u200d♀️', '🍩', '🇬🇲']\", \"['🤺', '💢', '🇸🇩']\", \"['🇻🇪', '🇬🇱', '🇸🇴']\", \"['🚸', '⛱', '🔞']\", \"['🌎', '🧗\\\\u200d♀️', '👳\\\\u200d♂️']\", \"['🇲🇴', '🪔', '🇮🇹']\", \"['🇷🇸', '🇯🇴', '🇵🇳']\", \"['🇸🇦', '👩\\\\u200d🍳', '\\U0001fae4']\", \"['🥫', '👏', '🇲🇦']\", \"['📷', '⚜', '🇵🇰']\", \"['🇿🇲', '🤔', '🇬🇭']\", \"['🇧🇷', '♋', '\\U0001faf2']\", \"['🧧', '🈹', '🟩']\", \"['🔟', '\\U0001fac5', '🇰🇪']\", \"['🕌', '🕺', '😔']\", \"['🇧🇦', '🇪🇪', '🚶\\\\u200d♀️']\", \"['🚪', '🥪', '🧻']\", \"['🅰', '🖐', '🕺']\", \"['🕕', '🛕', '📌']\"]\n",
      "Total runtime of 100 simultaneous requests is 456.839 milliseconds\n"
     ]
    }
   ],
   "source": [
    "# Batch requests \n",
    "\n",
    "number_of_requests = 100\n",
    "\n",
    "batch_requests = BatchScopeRequests(number_of_requests, post_user_endpoint, post_horoscope_endpoint)\n",
    "await batch_requests.create_users(batch_requests.create_user_url)\n",
    "pprint(batch_requests.test_users_ids[-10:])\n",
    "start = datetime.now()\n",
    "await batch_requests.create_horoscopes(batch_requests.create_horoscope_url)\n",
    "end = datetime.now()\n",
    "delta = (end - start).microseconds / 1000\n",
    "pprint(batch_requests.test_users_horoscopes[-10:])\n",
    "\n",
    "print(\"Emojis \", batch_requests.test_users_horoscopes)\n",
    "print(\"Total runtime of {} simultaneous requests is {} milliseconds\".format(number_of_requests, delta))\n"
   ]
  }
 ],
 "metadata": {
  "interpreter": {
   "hash": "7e81dec2e6fcacf03f7587a566e5794fbb2998833ca4934dd42aa47610b2e249"
  },
  "kernelspec": {
   "display_name": "Python 3.10.5 ('venv': venv)",
   "language": "python",
   "name": "python3"
  },
  "language_info": {
   "codemirror_mode": {
    "name": "ipython",
    "version": 3
   },
   "file_extension": ".py",
   "mimetype": "text/x-python",
   "name": "python",
   "nbconvert_exporter": "python",
   "pygments_lexer": "ipython3",
   "version": "3.10.5"
  },
  "orig_nbformat": 4
 },
 "nbformat": 4,
 "nbformat_minor": 2
}
